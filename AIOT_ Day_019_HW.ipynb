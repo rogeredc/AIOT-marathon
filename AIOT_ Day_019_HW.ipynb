{
 "cells": [
  {
   "cell_type": "code",
   "execution_count": null,
   "metadata": {},
   "outputs": [],
   "source": [
    "import RPi.GPIO\n",
    "import time\n",
    "import sys\n",
    "\n",
    "from flask import Flask\n",
    "\n",
    "RPi.GPIO.setmode(RPi.GPIO.BCM)\n",
    "RPi.GPIO.setup(26, RPi.GPIO.OUT)\n",
    "\n",
    "app = Flask(__name__)\n",
    "\n",
    "@app.route(\"/\")\n",
    "def hello_fan():\n",
    "    return \"Hello This is a fan controller\"\n",
    "\n",
    "@app.route(\"/start\")\n",
    "def start():\n",
    "    RPi.GPIO.setmode(RPi.GPIO.BCM)\n",
    "    RPi.GPIO.setup(26, RPi.GPIO.OUT)\n",
    "\n",
    "    while(True):\n",
    "            #RPi.GPIO.output(26, False)\n",
    "            #time.sleep(2)\n",
    "            RPi.GPIO.output(26, RPi.GPIO.HIGH)\n",
    "            #time.sleep(2)\n",
    "    RPi.GPIO.cleanup()\n",
    "\n",
    "if __name__ == \"__main__\":\n",
    "    app.run(host=\"0.0.0.0\", port=8080, debug=True, threaded=True)"
   ]
  },
  {
   "cell_type": "code",
   "execution_count": null,
   "metadata": {},
   "outputs": [],
   "source": []
  }
 ],
 "metadata": {
  "kernelspec": {
   "display_name": "Python 3",
   "language": "python",
   "name": "python3"
  },
  "language_info": {
   "codemirror_mode": {
    "name": "ipython",
    "version": 3
   },
   "file_extension": ".py",
   "mimetype": "text/x-python",
   "name": "python",
   "nbconvert_exporter": "python",
   "pygments_lexer": "ipython3",
   "version": "3.8.5"
  }
 },
 "nbformat": 4,
 "nbformat_minor": 4
}
