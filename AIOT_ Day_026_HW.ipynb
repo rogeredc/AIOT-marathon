{
 "cells": [
  {
   "cell_type": "markdown",
   "id": "covered-feelings",
   "metadata": {},
   "source": [
    "# 作業1\n",
    "##### 請思考使用原生程序和之前使用 os.system 指令進行操作，哪一種對你而言更方便？"
   ]
  },
  {
   "cell_type": "markdown",
   "id": "desperate-poultry",
   "metadata": {},
   "source": [
    "##### Ans: 使用原生程式相較 os.system 彈性更高。"
   ]
  },
  {
   "cell_type": "markdown",
   "id": "white-pickup",
   "metadata": {},
   "source": [
    "# 作業2\n",
    "##### 請使用imghdr函式庫檢查下面連結提供的影像是否為png格式"
   ]
  },
  {
   "cell_type": "code",
   "execution_count": 2,
   "id": "dirty-creature",
   "metadata": {},
   "outputs": [
    {
     "name": "stdout",
     "output_type": "stream",
     "text": [
      "Image type is png\n"
     ]
    }
   ],
   "source": [
    "from imghdr import what\n",
    "from io import BytesIO\n",
    "import requests\n",
    "\n",
    "res = requests.get(\"https://i.imgur.com/hM6uFKZ.png\")\n",
    "data = BytesIO(res.content)\n",
    "\n",
    "img_type = what(data)\n",
    "print(\"Image type is {}\".format(img_type))"
   ]
  },
  {
   "cell_type": "code",
   "execution_count": null,
   "id": "sticky-flooring",
   "metadata": {},
   "outputs": [],
   "source": []
  }
 ],
 "metadata": {
  "kernelspec": {
   "display_name": "Python 3",
   "language": "python",
   "name": "python3"
  },
  "language_info": {
   "codemirror_mode": {
    "name": "ipython",
    "version": 3
   },
   "file_extension": ".py",
   "mimetype": "text/x-python",
   "name": "python",
   "nbconvert_exporter": "python",
   "pygments_lexer": "ipython3",
   "version": "3.8.8"
  }
 },
 "nbformat": 4,
 "nbformat_minor": 5
}
