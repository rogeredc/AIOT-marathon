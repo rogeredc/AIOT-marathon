{
 "cells": [
  {
   "cell_type": "markdown",
   "metadata": {},
   "source": [
    "# 作業一"
   ]
  },
  {
   "cell_type": "markdown",
   "metadata": {},
   "source": [
    "## 練習使用一個民生物聯網 API，例如空氣、地震等感測站所回傳的紀錄資料。"
   ]
  },
  {
   "cell_type": "code",
   "execution_count": 10,
   "metadata": {},
   "outputs": [
    {
     "name": "stdout",
     "output_type": "stream",
     "text": [
      "{'value': [{'name': 'Datastreams',\n",
      "            'url': 'https://sta.ci.taiwan.gov.tw/STA_AirQuality_v2/v1.0/Datastreams'},\n",
      "           {'name': 'MultiDatastreams',\n",
      "            'url': 'https://sta.ci.taiwan.gov.tw/STA_AirQuality_v2/v1.0/MultiDatastreams'},\n",
      "           {'name': 'FeaturesOfInterest',\n",
      "            'url': 'https://sta.ci.taiwan.gov.tw/STA_AirQuality_v2/v1.0/FeaturesOfInterest'},\n",
      "           {'name': 'HistoricalLocations',\n",
      "            'url': 'https://sta.ci.taiwan.gov.tw/STA_AirQuality_v2/v1.0/HistoricalLocations'},\n",
      "           {'name': 'Locations',\n",
      "            'url': 'https://sta.ci.taiwan.gov.tw/STA_AirQuality_v2/v1.0/Locations'},\n",
      "           {'name': 'Observations',\n",
      "            'url': 'https://sta.ci.taiwan.gov.tw/STA_AirQuality_v2/v1.0/Observations'},\n",
      "           {'name': 'ObservedProperties',\n",
      "            'url': 'https://sta.ci.taiwan.gov.tw/STA_AirQuality_v2/v1.0/ObservedProperties'},\n",
      "           {'name': 'Sensors',\n",
      "            'url': 'https://sta.ci.taiwan.gov.tw/STA_AirQuality_v2/v1.0/Sensors'},\n",
      "           {'name': 'Things',\n",
      "            'url': 'https://sta.ci.taiwan.gov.tw/STA_AirQuality_v2/v1.0/Things'}]}\n"
     ]
    }
   ],
   "source": [
    "import requests\n",
    "import json\n",
    "import pprint\n",
    "url = \"https://sta.ci.taiwan.gov.tw/STA_AirQuality_v2/v1.0/\"\n",
    "r = requests.get(url)\n",
    "result = r.json()\n",
    "pprint.pprint(result)"
   ]
  },
  {
   "cell_type": "markdown",
   "metadata": {},
   "source": [
    "# 作業二"
   ]
  },
  {
   "cell_type": "markdown",
   "metadata": {},
   "source": [
    "## 練習操作 OGC SensorThings API，將環保局測站位置的資料抓取下來，並且觀察下載資料的內容。\n",
    "## 參考網址：https://sta.ci.taiwan.gov.tw/STA_AirQuality_EPAIoT/v1.0/Things"
   ]
  },
  {
   "cell_type": "code",
   "execution_count": 19,
   "metadata": {},
   "outputs": [
    {
     "name": "stdout",
     "output_type": "stream",
     "text": [
      "{'@iot.id': 1,\n",
      " '@iot.selfLink': 'https://sta.ci.taiwan.gov.tw/STA_AirQuality_EPAIoT/v1.0/Things(1)',\n",
      " 'Datastreams@iot.navigationLink': 'https://sta.ci.taiwan.gov.tw/STA_AirQuality_EPAIoT/v1.0/Things(1)/Datastreams',\n",
      " 'HistoricalLocations@iot.navigationLink': 'https://sta.ci.taiwan.gov.tw/STA_AirQuality_EPAIoT/v1.0/Things(1)/HistoricalLocations',\n",
      " 'Locations@iot.navigationLink': 'https://sta.ci.taiwan.gov.tw/STA_AirQuality_EPAIoT/v1.0/Things(1)/Locations',\n",
      " 'MultiDatastreams@iot.navigationLink': 'https://sta.ci.taiwan.gov.tw/STA_AirQuality_EPAIoT/v1.0/Things(1)/MultiDatastreams',\n",
      " 'TaskingCapabilities@iot.navigationLink': 'https://sta.ci.taiwan.gov.tw/STA_AirQuality_EPAIoT/v1.0/Things(1)/TaskingCapabilities',\n",
      " 'description': '智慧城鄉空品微型感測器-11113765144',\n",
      " 'name': '智慧城鄉空品微型感測器-11113765144',\n",
      " 'properties': {'Description': '廣域SAQ-210',\n",
      "                'areaDescription': '七堵區',\n",
      "                'areaType': '一般社區',\n",
      "                'authority': '行政院環境保護署',\n",
      "                'city': '基隆市',\n",
      "                'isDisplay': 'true',\n",
      "                'isMobile': 'false',\n",
      "                'isOutdoor': 'true',\n",
      "                'locationId': 'TW020201D0506810',\n",
      "                'stationID': '11113765144',\n",
      "                'township': '七堵區'}}\n"
     ]
    }
   ],
   "source": [
    "url = \"https://sta.ci.taiwan.gov.tw/STA_AirQuality_EPAIoT/v1.0/Things\"\n",
    "r = requests.get(url)\n",
    "result = r.json()\n",
    "pprint.pprint(result['value'][0])"
   ]
  },
  {
   "cell_type": "markdown",
   "metadata": {},
   "source": [
    "# 作業三"
   ]
  },
  {
   "cell_type": "code",
   "execution_count": null,
   "metadata": {},
   "outputs": [],
   "source": []
  },
  {
   "cell_type": "code",
   "execution_count": 27,
   "metadata": {},
   "outputs": [
    {
     "name": "stdout",
     "output_type": "stream",
     "text": [
      "{'@iot.id': 1,\n",
      " '@iot.selfLink': 'https://sta.ci.taiwan.gov.tw/STA_AirQuality_EPAIoT/v1.0/Datastreams(1)',\n",
      " 'Observations@iot.navigationLink': 'https://sta.ci.taiwan.gov.tw/STA_AirQuality_EPAIoT/v1.0/Datastreams(1)/Observations',\n",
      " 'ObservedProperty@iot.navigationLink': 'https://sta.ci.taiwan.gov.tw/STA_AirQuality_EPAIoT/v1.0/Datastreams(1)/ObservedProperty',\n",
      " 'Sensor@iot.navigationLink': 'https://sta.ci.taiwan.gov.tw/STA_AirQuality_EPAIoT/v1.0/Datastreams(1)/Sensor',\n",
      " 'Thing@iot.navigationLink': 'https://sta.ci.taiwan.gov.tw/STA_AirQuality_EPAIoT/v1.0/Datastreams(1)/Thing',\n",
      " 'description': '細懸浮微粒 PM2.5',\n",
      " 'name': 'PM2.5',\n",
      " 'observationType': 'http://www.opengis.net/def/observationType/OGC-OM/2.0/OM_Measurement',\n",
      " 'observedArea': {'coordinates': [121.687045, 25.111078], 'type': 'Point'},\n",
      " 'phenomenonTime': '2021-03-19T02:01:29.000Z/2021-03-19T06:43:29.000Z',\n",
      " 'resultTime': None,\n",
      " 'unitOfMeasurement': {'definition': 'https://acronyms.thefreedictionary.com/ug%2Fm3',\n",
      "                       'name': 'microgram per cubic meter',\n",
      "                       'symbol': 'μg/m3'}}\n"
     ]
    }
   ],
   "source": [
    "url = \"https://sta.ci.taiwan.gov.tw/STA_AirQuality_EPAIoT/v1.0/Things(1)/Datastreams\"\n",
    "r = requests.get(url)\n",
    "result = r.json()\n",
    "pprint.pprint(result['value'][0])"
   ]
  },
  {
   "cell_type": "code",
   "execution_count": 28,
   "metadata": {},
   "outputs": [
    {
     "name": "stdout",
     "output_type": "stream",
     "text": [
      "{'@iot.id': 1400134103,\n",
      " '@iot.selfLink': 'https://sta.ci.taiwan.gov.tw/STA_AirQuality_EPAIoT/v1.0/Observations(1400134103)',\n",
      " 'Datastream@iot.navigationLink': 'https://sta.ci.taiwan.gov.tw/STA_AirQuality_EPAIoT/v1.0/Observations(1400134103)/Datastream',\n",
      " 'FeatureOfInterest@iot.navigationLink': 'https://sta.ci.taiwan.gov.tw/STA_AirQuality_EPAIoT/v1.0/Observations(1400134103)/FeatureOfInterest',\n",
      " 'MultiDatastream@iot.navigationLink': 'https://sta.ci.taiwan.gov.tw/STA_AirQuality_EPAIoT/v1.0/Observations(1400134103)/MultiDatastream',\n",
      " 'phenomenonTime': '2021-03-19T02:10:29.000Z',\n",
      " 'result': 14.98,\n",
      " 'resultTime': None}\n"
     ]
    }
   ],
   "source": [
    "url = \"https://sta.ci.taiwan.gov.tw/STA_AirQuality_EPAIoT/v1.0/Datastreams(1)/Observations\"\n",
    "r = requests.get(url)\n",
    "result = r.json()\n",
    "pprint.pprint(result['value'][0])"
   ]
  },
  {
   "cell_type": "code",
   "execution_count": null,
   "metadata": {},
   "outputs": [],
   "source": []
  }
 ],
 "metadata": {
  "kernelspec": {
   "display_name": "Python 3",
   "language": "python",
   "name": "python3"
  },
  "language_info": {
   "codemirror_mode": {
    "name": "ipython",
    "version": 3
   },
   "file_extension": ".py",
   "mimetype": "text/x-python",
   "name": "python",
   "nbconvert_exporter": "python",
   "pygments_lexer": "ipython3",
   "version": "3.8.5"
  }
 },
 "nbformat": 4,
 "nbformat_minor": 4
}
