{
 "cells": [
  {
   "cell_type": "code",
   "execution_count": 13,
   "id": "destroyed-union",
   "metadata": {},
   "outputs": [],
   "source": [
    "from pymongo import MongoClient\n",
    "import pprint"
   ]
  },
  {
   "cell_type": "code",
   "execution_count": 9,
   "id": "coordinated-holiday",
   "metadata": {},
   "outputs": [],
   "source": [
    "client=MongoClient(host='localhost',port=27017)"
   ]
  },
  {
   "cell_type": "code",
   "execution_count": 17,
   "id": "valued-crest",
   "metadata": {},
   "outputs": [],
   "source": [
    "db=client['test']"
   ]
  },
  {
   "cell_type": "code",
   "execution_count": 18,
   "id": "necessary-store",
   "metadata": {},
   "outputs": [],
   "source": [
    "collection=db[\"Member\"]"
   ]
  },
  {
   "cell_type": "code",
   "execution_count": 19,
   "id": "grave-occasions",
   "metadata": {},
   "outputs": [
    {
     "data": {
      "text/plain": [
       "{'_id': ObjectId('6059a00fc79167ed3e4a8e54'),\n",
       " 'name': 'Cathy',\n",
       " 'email': 'test@abc.com',\n",
       " 'phone': '0912345678',\n",
       " 'age': '25'}"
      ]
     },
     "execution_count": 19,
     "metadata": {},
     "output_type": "execute_result"
    }
   ],
   "source": [
    "collection.find_one()"
   ]
  },
  {
   "cell_type": "code",
   "execution_count": 23,
   "id": "computational-metropolitan",
   "metadata": {},
   "outputs": [],
   "source": [
    "data_list=[\n",
    "{'name': 'Roger','email': 'test1@abc.com','phone': '0933445328','age': '25'},\n",
    "{'name': 'Erin','email': 'test2@abc.com','phone': '0978764678','age': '26'},\n",
    "{'name': 'Peter','email': 'test3@abc.com','phone': '0912567548','age': '29'}\n",
    "]\n",
    "new_data=collection.insert_many(data_list)"
   ]
  },
  {
   "cell_type": "code",
   "execution_count": 36,
   "id": "authentic-painting",
   "metadata": {},
   "outputs": [
    {
     "name": "stdout",
     "output_type": "stream",
     "text": [
      "{'_id': ObjectId('6059ada1962f7063ebed0b54'),\n",
      " 'age': '29',\n",
      " 'email': 'test3@abc.com',\n",
      " 'name': 'Peter',\n",
      " 'phone': '0912567548'}\n",
      "{'_id': ObjectId('6059ada1962f7063ebed0b53'),\n",
      " 'age': '26',\n",
      " 'email': 'test2@abc.com',\n",
      " 'name': 'Erin',\n",
      " 'phone': '0978764678'}\n",
      "{'_id': ObjectId('6059a00fc79167ed3e4a8e54'),\n",
      " 'age': '25',\n",
      " 'email': 'test@abc.com',\n",
      " 'name': 'Cathy',\n",
      " 'phone': '0912345678'}\n",
      "{'_id': ObjectId('6059ada1962f7063ebed0b52'),\n",
      " 'age': '25',\n",
      " 'email': 'test1@abc.com',\n",
      " 'name': 'Roger',\n",
      " 'phone': '0933445328'}\n"
     ]
    }
   ],
   "source": [
    "result=collection.find().sort('age',-1)\n",
    "for i in result:\n",
    "    pprint.pprint(i)"
   ]
  },
  {
   "cell_type": "code",
   "execution_count": null,
   "id": "expressed-kitchen",
   "metadata": {},
   "outputs": [],
   "source": []
  }
 ],
 "metadata": {
  "kernelspec": {
   "display_name": "Python 3",
   "language": "python",
   "name": "python3"
  },
  "language_info": {
   "codemirror_mode": {
    "name": "ipython",
    "version": 3
   },
   "file_extension": ".py",
   "mimetype": "text/x-python",
   "name": "python",
   "nbconvert_exporter": "python",
   "pygments_lexer": "ipython3",
   "version": "3.8.8"
  }
 },
 "nbformat": 4,
 "nbformat_minor": 5
}
