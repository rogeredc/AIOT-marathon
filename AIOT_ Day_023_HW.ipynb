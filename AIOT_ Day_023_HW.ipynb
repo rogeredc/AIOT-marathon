{
 "cells": [
  {
   "cell_type": "markdown",
   "id": "answering-algeria",
   "metadata": {},
   "source": [
    "# 作業1\n",
    "##### 請思考使用YOLO和tinyYOLO進行訓練時，他們之間需要調整的差異在哪裡?¶"
   ]
  },
  {
   "cell_type": "markdown",
   "id": "native-fever",
   "metadata": {},
   "source": [
    "### Ans: tiny-Yolo與Yolo 的模型權重和參數檔不同"
   ]
  },
  {
   "cell_type": "markdown",
   "id": "contemporary-breach",
   "metadata": {},
   "source": [
    "# 作業2\n",
    "#### 請實作當我們要訓練一個7個class的tiny_yolo時，要如何設定cfg檔?¶"
   ]
  },
  {
   "cell_type": "code",
   "execution_count": null,
   "id": "statewide-navigator",
   "metadata": {},
   "outputs": [],
   "source": [
    "!sed -i '135 s@classes=80@classes=7@' cfg/yolov3_training.cfg\n",
    "!sed -i '177 s@classes=80@classes=7@' cfg/yolov3_training.cfg\n",
    "!sed -i '127 s@filters=255@filters=36@' cfg/yolov3_training.cfg\n",
    "!sed -i '171 s@filters=255@filters=36@' cfg/yolov3_training.cfg"
   ]
  }
 ],
 "metadata": {
  "kernelspec": {
   "display_name": "Python 3",
   "language": "python",
   "name": "python3"
  },
  "language_info": {
   "codemirror_mode": {
    "name": "ipython",
    "version": 3
   },
   "file_extension": ".py",
   "mimetype": "text/x-python",
   "name": "python",
   "nbconvert_exporter": "python",
   "pygments_lexer": "ipython3",
   "version": "3.8.8"
  }
 },
 "nbformat": 4,
 "nbformat_minor": 5
}
